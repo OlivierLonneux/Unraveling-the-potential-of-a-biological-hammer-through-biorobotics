{
 "cells": [
  {
   "cell_type": "markdown",
   "metadata": {},
   "source": [
    "# Robot experimentations\n",
    "This notebook gives the necessary functions to experiment with the benchtop model of the Doedicurus tail club. \n",
    "The next cell gives all the necessary functions and sets up the motors."
   ]
  },
  {
   "cell_type": "code",
   "execution_count": 1,
   "metadata": {},
   "outputs": [],
   "source": [
    "from dynio import *\n",
    "import time\n",
    "dxl_io = dxl.DynamixelIO('COM3') #initialise USB port\n",
    "body_motor = dxl_io.new_mx64(1, 1)  # MX-64 protocol 1 with ID 2\n",
    "tail_motor = dxl_io.new_mx64(2, 1)  # MX-64 protocol 2 with ID 3\n",
    "tail_motor.torque_enable()\n",
    "body_motor.torque_enable()\n",
    "\n",
    "tail_angle = []; tail_load = []; body_load = [];body_angle = []\n",
    "\n",
    "def angle_to_motor_position(angle):\n",
    "    \"\"\"Transform an angle value in degrees to the motor position\n",
    "    Args:\n",
    "        angle (float): Angle in degrees\n",
    "    Returns:\n",
    "        int: Motor position\n",
    "    \"\"\"\n",
    "    return int(2048 + 2048*angle/180)\n",
    "\n",
    "zero_pos = angle_to_motor_position(0)\n",
    "tail_min_pos = angle_to_motor_position(-45)\n",
    "tail_max_pos = angle_to_motor_position(45)\n",
    "\n",
    "body_motor.set_velocity(50)\n",
    "tail_motor.set_velocity(50)\n",
    "tail_motor.set_position(zero_pos)\n",
    "body_motor.set_position(zero_pos)\n",
    "\n",
    "def instance(body_velocity = 150, tail_velocity = 250, body_final_pos = 30, blow_time = 0.4, body_rot_offset = 0, max_time = 3, factor = 1):\n",
    "    \"\"\"This function performs an instance of experimentation for the robot.\n",
    "    Args:\n",
    "        body_velocity (int, optional): Body velocity in rev/min. Defaults to 150.\n",
    "        tail_velocity (int, optional): Tail velocity in rev/min. Defaults to 250.\n",
    "        body_final_pos (int, optional): Body final position in degrees. Defaults to 30.\n",
    "        blow_time (float, optional): Swing offset in seconds. Defaults to 0.4.\n",
    "        body_rot_offset (int, optional): Body rotation offset in seconds. Defaults to 0.\n",
    "        max_time (int, optional): Time of the instance in seconds. Defaults to 3.\n",
    "        factor (int, optional): Factor of power of preliminary swing. Defaults to 1.\n",
    "\n",
    "    Returns:\n",
    "        list: Angle and current load of both motors\n",
    "    \"\"\"\n",
    "    body_max_pos = angle_to_motor_position(body_final_pos/2)\n",
    "    body_min_pos = angle_to_motor_position(-body_final_pos/2)\n",
    "    body_motor.set_velocity(int(body_velocity*factor))\n",
    "    tail_motor.set_velocity(int(tail_velocity*factor))\n",
    "    tail_motor.set_position(tail_min_pos)\n",
    "    body_motor.set_position(body_min_pos)\n",
    "    start_time = time.time()\n",
    "    timer = 0\n",
    "    while timer < max_time:\n",
    "        timer = time.time() - start_time\n",
    "        if timer> blow_time:\n",
    "            body_motor.set_velocity(body_velocity)\n",
    "            tail_motor.set_velocity(tail_velocity)\n",
    "            if body_rot_offset>0:\n",
    "                tail_motor.set_position(tail_max_pos)\n",
    "            else:\n",
    "                body_motor.set_position(body_max_pos)\n",
    "\n",
    "        if timer> blow_time + abs(body_rot_offset):\n",
    "            if body_rot_offset> 0:\n",
    "                body_motor.set_position(body_max_pos)\n",
    "            else:\n",
    "                tail_motor.set_position(tail_max_pos)\n",
    "        tail_angle.append(tail_motor.get_angle())\n",
    "        tail_load.append(tail_motor.get_current())\n",
    "        body_angle.append(body_motor.get_angle())\n",
    "        body_load.append(body_motor.get_current())\n",
    "\n",
    "    body_motor.set_position(zero_pos)\n",
    "    tail_motor.set_position(zero_pos)\n",
    "    return tail_angle, tail_load, body_load, body_angle"
   ]
  },
  {
   "cell_type": "markdown",
   "metadata": {},
   "source": [
    "The following cell experiments with various parameters choice."
   ]
  },
  {
   "cell_type": "code",
   "execution_count": 2,
   "metadata": {},
   "outputs": [
    {
     "name": "stdout",
     "output_type": "stream",
     "text": [
      "[RxPacketError] Out of range error!\n"
     ]
    }
   ],
   "source": [
    "for i in range(0, 9):\n",
    "    blow_time = 0.1*i\n",
    "    instance(blow_time = blow_time)\n",
    "    time.sleep(3)\n",
    "\n",
    "for i in range(0, 7):\n",
    "    instance(body_final_pos = i*10)\n",
    "    time.sleep(3)\n",
    "\n",
    "for i in range(0,9):\n",
    "    body_rot_offset = -0.4 +0.1*i\n",
    "    instance(body_rot_offset = body_rot_offset)\n",
    "    time.sleep(3)\n",
    "\n",
    "for i in range(0,10):\n",
    "    body_velocity = 30+30*i\n",
    "    instance(body_velocity = body_velocity)\n",
    "    time.sleep(3)\n",
    "    \n",
    "for i in range(0,10):\n",
    "    tail_velocity = 50+50*i\n",
    "    instance(tail_velocity=tail_velocity)\n",
    "    time.sleep(3)\n",
    "\n",
    "for i in range(0,9):\n",
    "    factor = 0.1*i+0.1\n",
    "    instance(factor=factor)\n",
    "    time.sleep(3)\n",
    "\n",
    "instance(0,0)"
   ]
  }
 ],
 "metadata": {
  "kernelspec": {
   "display_name": "Python 3",
   "language": "python",
   "name": "python3"
  },
  "language_info": {
   "codemirror_mode": {
    "name": "ipython",
    "version": 3
   },
   "file_extension": ".py",
   "mimetype": "text/x-python",
   "name": "python",
   "nbconvert_exporter": "python",
   "pygments_lexer": "ipython3",
   "version": "3.9.7"
  },
  "orig_nbformat": 4
 },
 "nbformat": 4,
 "nbformat_minor": 2
}
